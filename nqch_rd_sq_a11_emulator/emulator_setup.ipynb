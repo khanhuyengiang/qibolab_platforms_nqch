{
 "cells": [
  {
   "cell_type": "markdown",
   "id": "c06a5426-916c-4d3f-aa04-e8f736b40b23",
   "metadata": {},
   "source": [
    "# Qibolab v0.1.6 2Q emulator setup"
   ]
  },
  {
   "cell_type": "code",
   "execution_count": 4,
   "id": "73e394ec-1612-445d-bcaa-4480b9519e8a",
   "metadata": {},
   "outputs": [
    {
     "name": "stderr",
     "output_type": "stream",
     "text": [
      "INFO:root:nqch_rd_sq_a11 emulator running general no coupler CR drive model on Qutip backend\n",
      "INFO:root:emulator qubits: ['0', '1']\n",
      "INFO:root:emulator couplers: []\n",
      "INFO:root:runcard qubits: [0, 1]\n",
      "INFO:root:sampling rate: 5.89824GHz\n",
      "INFO:root:simulation sampling boost: 10\n",
      "[Qibo 0.2.6|INFO|2024-04-08 20:37:25]: Loading platform nqch_rd_sq_a11 emulator running general no coupler CR drive model on Qutip backend\n",
      "INFO:qibo.config:Loading platform nqch_rd_sq_a11 emulator running general no coupler CR drive model on Qutip backend\n"
     ]
    },
    {
     "name": "stdout",
     "output_type": "stream",
     "text": [
      "Hilbert space structure:  ['1', '0']\n",
      "Hilbert space dimensions:  [2, 2]\n"
     ]
    }
   ],
   "source": [
    "#import pathlib, os, sys\n",
    "#emulator_folder = pathlib.Path(os.path.abspath('')).parent.parent/'emulator_platforms/' # path to parent diectory of emulator platform folder\n",
    "#sys.path.append(emulator_folder.as_posix())\n",
    "\n",
    "from nqch_rd_sq_a11 import create\n",
    "\n",
    "emulator_platform = create()\n",
    "pulse_simulator = emulator_platform.instruments['pulse_simulator']\n",
    "simulation_backend = pulse_simulator.simulation_backend"
   ]
  },
  {
   "cell_type": "code",
   "execution_count": 5,
   "id": "89eb255e-a5c1-473e-98a0-572947b3ef4e",
   "metadata": {},
   "outputs": [
    {
     "name": "stdout",
     "output_type": "stream",
     "text": [
      "Dictionary\n"
     ]
    },
    {
     "data": {
      "text/latex": [
       "$O_i = b^{\\dagger}_i b_i$"
      ],
      "text/plain": [
       "<IPython.core.display.Latex object>"
      ]
     },
     "metadata": {},
     "output_type": "display_data"
    },
    {
     "data": {
      "text/latex": [
       "$X_i = b^{\\dagger}_i + b_i$"
      ],
      "text/plain": [
       "<IPython.core.display.Latex object>"
      ]
     },
     "metadata": {},
     "output_type": "display_data"
    },
    {
     "name": "stdout",
     "output_type": "stream",
     "text": [
      "\n",
      "\n",
      "---------------------\n",
      "One-body drift terms:\n",
      "---------------------\n"
     ]
    },
    {
     "data": {
      "text/latex": [
       "$O_0$"
      ],
      "text/plain": [
       "<IPython.core.display.Latex object>"
      ]
     },
     "metadata": {},
     "output_type": "display_data"
    },
    {
     "data": {
      "text/latex": [
       "$3.7944766564044334~\\text{GHz}$"
      ],
      "text/plain": [
       "<IPython.core.display.Latex object>"
      ]
     },
     "metadata": {},
     "output_type": "display_data"
    },
    {
     "data": {
      "text/latex": [
       "$O_0O_0-O_0$"
      ],
      "text/plain": [
       "<IPython.core.display.Latex object>"
      ]
     },
     "metadata": {},
     "output_type": "display_data"
    },
    {
     "data": {
      "text/latex": [
       "$-0.101~\\text{GHz}$"
      ],
      "text/plain": [
       "<IPython.core.display.Latex object>"
      ]
     },
     "metadata": {},
     "output_type": "display_data"
    },
    {
     "data": {
      "text/latex": [
       "$O_1$"
      ],
      "text/plain": [
       "<IPython.core.display.Latex object>"
      ]
     },
     "metadata": {},
     "output_type": "display_data"
    },
    {
     "data": {
      "text/latex": [
       "$3.4789611318045495~\\text{GHz}$"
      ],
      "text/plain": [
       "<IPython.core.display.Latex object>"
      ]
     },
     "metadata": {},
     "output_type": "display_data"
    },
    {
     "data": {
      "text/latex": [
       "$O_1O_1-O_1$"
      ],
      "text/plain": [
       "<IPython.core.display.Latex object>"
      ]
     },
     "metadata": {},
     "output_type": "display_data"
    },
    {
     "data": {
      "text/latex": [
       "$-0.102~\\text{GHz}$"
      ],
      "text/plain": [
       "<IPython.core.display.Latex object>"
      ]
     },
     "metadata": {},
     "output_type": "display_data"
    },
    {
     "name": "stdout",
     "output_type": "stream",
     "text": [
      "---------------------\n",
      "Two-body drift terms:\n",
      "---------------------\n"
     ]
    },
    {
     "data": {
      "text/latex": [
       "$b^{\\dagger}_1{\\otimes}b_0+b_1{\\otimes}b^{\\dagger}_0$"
      ],
      "text/plain": [
       "<IPython.core.display.Latex object>"
      ]
     },
     "metadata": {},
     "output_type": "display_data"
    },
    {
     "data": {
      "text/latex": [
       "$0.0~\\text{GHz}$"
      ],
      "text/plain": [
       "<IPython.core.display.Latex object>"
      ]
     },
     "metadata": {},
     "output_type": "display_data"
    },
    {
     "name": "stdout",
     "output_type": "stream",
     "text": [
      "---------------------\n",
      "One-body drive terms:\n",
      "---------------------\n"
     ]
    },
    {
     "data": {
      "text/latex": [
       "$X_0$"
      ],
      "text/plain": [
       "<IPython.core.display.Latex object>"
      ]
     },
     "metadata": {},
     "output_type": "display_data"
    },
    {
     "data": {
      "text/latex": [
       "$0.11400000000000002~\\text{GHz}$"
      ],
      "text/plain": [
       "<IPython.core.display.Latex object>"
      ]
     },
     "metadata": {},
     "output_type": "display_data"
    },
    {
     "data": {
      "text/latex": [
       "$X_1$"
      ],
      "text/plain": [
       "<IPython.core.display.Latex object>"
      ]
     },
     "metadata": {},
     "output_type": "display_data"
    },
    {
     "data": {
      "text/latex": [
       "$0.11400000000000002~\\text{GHz}$"
      ],
      "text/plain": [
       "<IPython.core.display.Latex object>"
      ]
     },
     "metadata": {},
     "output_type": "display_data"
    },
    {
     "name": "stdout",
     "output_type": "stream",
     "text": [
      "---------------------\n",
      "Dissipative terms:\n",
      "---------------------\n",
      ">> t1 Linblad operators:\n"
     ]
    },
    {
     "data": {
      "text/latex": [
       "$\\sigma^+_0$"
      ],
      "text/plain": [
       "<IPython.core.display.Latex object>"
      ]
     },
     "metadata": {},
     "output_type": "display_data"
    },
    {
     "data": {
      "text/latex": [
       "$0.005360562674188975~\\sqrt{{ \\text{GHz} }}$"
      ],
      "text/plain": [
       "<IPython.core.display.Latex object>"
      ]
     },
     "metadata": {},
     "output_type": "display_data"
    },
    {
     "data": {
      "text/latex": [
       "$\\sigma^+_1$"
      ],
      "text/plain": [
       "<IPython.core.display.Latex object>"
      ]
     },
     "metadata": {},
     "output_type": "display_data"
    },
    {
     "data": {
      "text/latex": [
       "$0.007412493166611012~\\sqrt{{ \\text{GHz} }}$"
      ],
      "text/plain": [
       "<IPython.core.display.Latex object>"
      ]
     },
     "metadata": {},
     "output_type": "display_data"
    },
    {
     "name": "stdout",
     "output_type": "stream",
     "text": [
      ">> t2 Linblad operators:\n"
     ]
    },
    {
     "data": {
      "text/latex": [
       "$\\sigma^Z_0$"
      ],
      "text/plain": [
       "<IPython.core.display.Latex object>"
      ]
     },
     "metadata": {},
     "output_type": "display_data"
    },
    {
     "data": {
      "text/latex": [
       "$0.006565321642986128~\\sqrt{{ \\text{GHz} }}$"
      ],
      "text/plain": [
       "<IPython.core.display.Latex object>"
      ]
     },
     "metadata": {},
     "output_type": "display_data"
    },
    {
     "data": {
      "text/latex": [
       "$\\sigma^Z_1$"
      ],
      "text/plain": [
       "<IPython.core.display.Latex object>"
      ]
     },
     "metadata": {},
     "output_type": "display_data"
    },
    {
     "data": {
      "text/latex": [
       "$0.007856742013183862~\\sqrt{{ \\text{GHz} }}$"
      ],
      "text/plain": [
       "<IPython.core.display.Latex object>"
      ]
     },
     "metadata": {},
     "output_type": "display_data"
    },
    {
     "name": "stdout",
     "output_type": "stream",
     "text": [
      "---------------------\n"
     ]
    }
   ],
   "source": [
    "from qibolab.instruments.emulator.backends.generic import print_Hamiltonian\n",
    "\n",
    "print_Hamiltonian(simulation_backend.model_config)"
   ]
  },
  {
   "cell_type": "code",
   "execution_count": null,
   "id": "5704c52d-ad7e-4d15-b7ba-9d0e88ade38b",
   "metadata": {},
   "outputs": [],
   "source": []
  }
 ],
 "metadata": {
  "kernelspec": {
   "display_name": "Python 3 (ipykernel)",
   "language": "python",
   "name": "python3"
  },
  "language_info": {
   "codemirror_mode": {
    "name": "ipython",
    "version": 3
   },
   "file_extension": ".py",
   "mimetype": "text/x-python",
   "name": "python",
   "nbconvert_exporter": "python",
   "pygments_lexer": "ipython3",
   "version": "3.9.18"
  }
 },
 "nbformat": 4,
 "nbformat_minor": 5
}
